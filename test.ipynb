{
 "cells": [
  {
   "cell_type": "markdown",
   "id": "5e2bc9e1",
   "metadata": {},
   "source": [
    "# Libraries"
   ]
  },
  {
   "cell_type": "code",
   "execution_count": null,
   "id": "45cf217a",
   "metadata": {},
   "outputs": [],
   "source": [
    "import yaml\n",
    "from pathlib import Path\n",
    "import tifffile\n",
    "import os"
   ]
  },
  {
   "cell_type": "markdown",
   "id": "73eb38c9",
   "metadata": {},
   "source": [
    "# Helper Functions"
   ]
  },
  {
   "cell_type": "code",
   "execution_count": null,
   "id": "ec890c02",
   "metadata": {},
   "outputs": [],
   "source": []
  },
  {
   "cell_type": "markdown",
   "id": "adcdd44f",
   "metadata": {},
   "source": [
    "# Main"
   ]
  },
  {
   "cell_type": "code",
   "execution_count": null,
   "id": "150bad0c",
   "metadata": {},
   "outputs": [],
   "source": [
    "config_yaml_path = \"config.yaml\"\n",
    "\n",
    "config_path = Path(config_yaml_path)\n",
    "\n",
    "with config_path.open(\"r\", encoding=\"utf-8\") as f:\n",
    "    cfg = yaml.safe_load(f) \n",
    "\n",
    "data_path = cfg[\"data\"][\"path\"]\n"
   ]
  },
  {
   "cell_type": "code",
   "execution_count": null,
   "id": "dd5dd6ba",
   "metadata": {},
   "outputs": [],
   "source": [
    "imgs_shape = {}\n",
    "for tiff_img_name in os.listdir(data_path):\n",
    "    if tiff_img_name.endswith(\".marker\"):\n",
    "        continue\n",
    "\n",
    "    tiff_img = tifffile.imread(\n",
    "        os.path.join(data_path, tiff_img_name)\n",
    "    )\n",
    "\n",
    "    shape_name = f\"{tiff_img.shape[0]}_{tiff_img.shape[1]}_{tiff_img.shape[2]}\"\n",
    "    if shape_name not in imgs_shape.keys():\n",
    "        imgs_shape[shape_name] = [tiff_img_name]\n",
    "    else:\n",
    "        tiff_img_names = imgs_shape[shape_name]\n",
    "        updated = tiff_img_names + [tiff_img_name]\n",
    "        imgs_shape[shape_name] = updated"
   ]
  },
  {
   "cell_type": "code",
   "execution_count": null,
   "id": "64fa54cc",
   "metadata": {},
   "outputs": [],
   "source": [
    "from pprint import pprint\n",
    "pprint(imgs_shape)"
   ]
  }
 ],
 "metadata": {
  "kernelspec": {
   "display_name": ".venv (3.12.3)",
   "language": "python",
   "name": "python3"
  },
  "language_info": {
   "codemirror_mode": {
    "name": "ipython",
    "version": 3
   },
   "file_extension": ".py",
   "mimetype": "text/x-python",
   "name": "python",
   "nbconvert_exporter": "python",
   "pygments_lexer": "ipython3",
   "version": "3.12.3"
  }
 },
 "nbformat": 4,
 "nbformat_minor": 5
}
