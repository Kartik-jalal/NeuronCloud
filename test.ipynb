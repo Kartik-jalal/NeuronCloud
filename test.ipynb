{
 "cells": [
  {
   "cell_type": "markdown",
   "id": "5e2bc9e1",
   "metadata": {},
   "source": [
    "# Libraries"
   ]
  },
  {
   "cell_type": "code",
   "execution_count": null,
   "id": "45cf217a",
   "metadata": {},
   "outputs": [],
   "source": [
    "import yaml\n",
    "from pathlib import Path\n",
    "\n",
    "from src.utils import  get_data_info, train_val_test_split, focal_loss_with_logits, masked_smoothl1\n",
    "from src.classes import NeuronPatchDataset, SwimUNETR_Heatmap_offsets\n",
    "\n",
    "import tifffile\n",
    "import os\n",
    "from torch.utils.data import DataLoader"
   ]
  },
  {
   "cell_type": "markdown",
   "id": "adcdd44f",
   "metadata": {},
   "source": [
    "# Main\n",
    "\n",
    "### read config"
   ]
  },
  {
   "cell_type": "code",
   "execution_count": null,
   "id": "150bad0c",
   "metadata": {},
   "outputs": [],
   "source": [
    "config_yaml_path = \"config.yaml\"\n",
    "\n",
    "config_path = Path(config_yaml_path)\n",
    "\n",
    "with config_path.open(\"r\", encoding=\"utf-8\") as f:\n",
    "    cfg = yaml.safe_load(f) \n",
    "\n",
    "data_path = cfg[\"dir\"][\"input\"]\n",
    "output_dir = cfg[\"dir\"][\"output\"]\n",
    "\n",
    "tiff_suffixes = cfg[\"input_data\"][\"tiff_suffixes\"]\n",
    "marker_suffix = cfg[\"input_data\"][\"marker_suffix\"]\n",
    "\n",
    "ground_truth_config = cfg[\"ground_truth_config\"]\n",
    "\n",
    "pre_processing_config = cfg[\"pre_processing_config\"]\n",
    "\n",
    "print(data_path)\n",
    "print(output_dir)\n",
    "\n",
    "print(tiff_suffixes)\n",
    "print(marker_suffix)\n",
    "\n",
    "print(ground_truth_config)\n",
    "print(pre_processing_config)"
   ]
  },
  {
   "cell_type": "markdown",
   "id": "3635cc5e",
   "metadata": {},
   "source": [
    "### create dataframe with all the data info"
   ]
  },
  {
   "cell_type": "code",
   "execution_count": null,
   "id": "9c01f9dc",
   "metadata": {},
   "outputs": [],
   "source": [
    "df = get_data_info(\n",
    "    data_path=data_path,\n",
    "    tiff_suffixes=tiff_suffixes,\n",
    "    marker_suffix=marker_suffix\n",
    ")"
   ]
  },
  {
   "cell_type": "code",
   "execution_count": null,
   "id": "a14c6df4",
   "metadata": {},
   "outputs": [],
   "source": [
    "df"
   ]
  },
  {
   "cell_type": "code",
   "execution_count": null,
   "id": "038aaf8b",
   "metadata": {},
   "outputs": [],
   "source": [
    "# from collections import Counter\n",
    "\n",
    "# Counter(df[\"n_neurons\"])"
   ]
  },
  {
   "cell_type": "code",
   "execution_count": null,
   "id": "aa70a956",
   "metadata": {},
   "outputs": [],
   "source": [
    "# df[df[\"n_neurons\"] == 748]"
   ]
  },
  {
   "cell_type": "markdown",
   "id": "d8aa0430",
   "metadata": {},
   "source": [
    "### split the data into train, val and test"
   ]
  },
  {
   "cell_type": "code",
   "execution_count": null,
   "id": "7cbc7cdb",
   "metadata": {},
   "outputs": [],
   "source": [
    "train_df, eval_df, test_df = train_val_test_split(\n",
    "    df=df, \n",
    "    n_neurons_bins=5\n",
    ")\n",
    "\n",
    "print(train_df.shape, eval_df.shape, test_df.shape)"
   ]
  },
  {
   "cell_type": "code",
   "execution_count": null,
   "id": "6f9be495",
   "metadata": {},
   "outputs": [],
   "source": [
    "# train[train[\"tiff_img_name\"] == \"SST_11_20.tif\"]\n",
    "\n",
    "# train.iloc[34]"
   ]
  },
  {
   "cell_type": "markdown",
   "id": "220a8103",
   "metadata": {},
   "source": [
    "# initialise the NeuronPatchDataset object"
   ]
  },
  {
   "cell_type": "code",
   "execution_count": null,
   "id": "84cc42cb",
   "metadata": {},
   "outputs": [],
   "source": [
    "train_ds = NeuronPatchDataset(\n",
    "    df=train_df,\n",
    "    ground_truth_config=ground_truth_config,\n",
    "    pre_processing_config=pre_processing_config,\n",
    ")\n",
    "\n",
    "eval_ds = NeuronPatchDataset(\n",
    "    df=eval_df,\n",
    "    ground_truth_config=ground_truth_config,\n",
    "    pre_processing_config=pre_processing_config,\n",
    ")"
   ]
  },
  {
   "cell_type": "code",
   "execution_count": null,
   "id": "10a9e3e7",
   "metadata": {},
   "outputs": [],
   "source": [
    "# index = 34\n",
    "# data = train_ds.__getitem__(index=index)"
   ]
  },
  {
   "cell_type": "code",
   "execution_count": null,
   "id": "61441a6a",
   "metadata": {},
   "outputs": [],
   "source": [
    "# for key, gt in data.items():\n",
    "#     tifffile.imwrite(\n",
    "#         os.path.join(output_dir,key+f\"_{index}_.tiff\"),\n",
    "#         data=gt.numpy()\n",
    "#     )"
   ]
  },
  {
   "cell_type": "markdown",
   "id": "0db753e0",
   "metadata": {},
   "source": [
    "# initialise the dataloader object"
   ]
  },
  {
   "cell_type": "code",
   "execution_count": null,
   "id": "14adabb4",
   "metadata": {},
   "outputs": [],
   "source": [
    "train_dl = DataLoader(\n",
    "    train_ds, \n",
    "    batch_size=1, \n",
    "    shuffle=True, \n",
    "    num_workers=4\n",
    ")\n",
    "\n",
    "eval_dl = DataLoader(\n",
    "    eval_ds,\n",
    "    batch_size=1,\n",
    "    num_workers=4\n",
    ")\n"
   ]
  },
  {
   "cell_type": "markdown",
   "id": "1843a779",
   "metadata": {},
   "source": [
    "### initialise the model"
   ]
  },
  {
   "cell_type": "code",
   "execution_count": null,
   "id": "a3569706",
   "metadata": {},
   "outputs": [],
   "source": [
    "model = SwimUNETR_Heatmap_offsets()"
   ]
  },
  {
   "cell_type": "markdown",
   "id": "1d37a1c7",
   "metadata": {},
   "source": [
    "### initialise optimiser and accelerator"
   ]
  },
  {
   "cell_type": "code",
   "execution_count": null,
   "id": "6f09a717",
   "metadata": {},
   "outputs": [],
   "source": [
    "from accelerate import Accelerator\n",
    "from torch.optim import AdamW\n",
    "\n",
    "optimiser = AdamW(\n",
    "    params=model.parameters(),\n",
    "    lr=1e-4,\n",
    "    weight_decay=1e-4\n",
    ")\n",
    "\n",
    "accelerator = Accelerator()\n",
    "train_dl, eval_dl, model, optimiser = accelerator.prepare(\n",
    "    train_dl, eval_dl, model, optimiser, device_placement=[True, True, True, True]\n",
    ")"
   ]
  },
  {
   "cell_type": "markdown",
   "id": "aa27b361",
   "metadata": {},
   "source": [
    "### initialise the schedular"
   ]
  },
  {
   "cell_type": "code",
   "execution_count": null,
   "id": "66fa2fb5",
   "metadata": {},
   "outputs": [],
   "source": [
    "from transformers import get_scheduler\n",
    "\n",
    "num_epochs = 200\n",
    "num_training_steps = num_epochs * len(train_dl)\n",
    "\n",
    "num_warmup_steps = int(0.1 * num_training_steps)\n",
    "\n",
    "lr_schedular = get_scheduler(\n",
    "    name=\"cosine\",\n",
    "    optimizer=optimiser,\n",
    "    num_warmup_steps=num_warmup_steps,\n",
    "    num_training_steps=num_training_steps\n",
    ")"
   ]
  },
  {
   "cell_type": "markdown",
   "id": "2aa2587c",
   "metadata": {},
   "source": [
    "### Training the model"
   ]
  },
  {
   "cell_type": "code",
   "execution_count": null,
   "id": "298a58c5",
   "metadata": {},
   "outputs": [],
   "source": [
    "import mlflow\n",
    "import mlflow.pytorch\n",
    "from tqdm.notebook import tqdm\n",
    "import torch\n",
    "\n",
    "\n",
    "progress_bar = tqdm(range(num_training_steps))\n",
    "\n",
    "def train():\n",
    "    remote_server_uri=\"http://127.0.0.1:8080\"\n",
    "    mlflow.set_tracking_uri(remote_server_uri)\n",
    "    mlflow.set_experiment(\"/NeuroCloud\")\n",
    "\n",
    "    with mlflow.start_run():\n",
    "        for epoch in range(num_epochs):\n",
    "            # Ensure model is in training mode\n",
    "            model.train()\n",
    "            train_epoch_loss = []\n",
    "\n",
    "            for batch in train_dl:\n",
    "                img = batch[\"image\"] # (B,1,Z,Y,X)\n",
    "                heatmap = batch[\"heatmap\"]  # (B,1,Z,Y,X)\n",
    "                offsets  = batch[\"offsets\"] # (B,3,Z,Y,X)\n",
    "                offset_mask = batch[\"offset_mask\"] # (B,1,Z,Y,X)\n",
    "\n",
    "                heatmap_logits, offsets_pred = model(img)\n",
    "\n",
    "\n",
    "                progress_bar.update(1)\n",
    "                loss_hmap = focal_loss_with_logits(\n",
    "                    logits=heatmap_logits,\n",
    "                    target=heatmap\n",
    "                )\n",
    "                loss_offsets = masked_smoothl1(\n",
    "                    pred=offsets_pred,\n",
    "                    target=offsets,\n",
    "                    mask=offset_mask\n",
    "                )\n",
    "\n",
    "                loss = loss_hmap + 1.2 * loss_offsets\n",
    "\n",
    "                accelerator.backward(loss)\n",
    "                torch.nn.utils.clip_grad_norm_(model.parameters(), max_norm=1.0)\n",
    "                optimiser.step()\n",
    "                lr_schedular.step()\n",
    "                optimiser.zero_grad()\n",
    "\n",
    "                # METRICS COMPUTATION (after backward pass is complete)\n",
    "                with torch.no_grad():\n",
    "                    train_epoch_loss.append(loss.detach().item())\n",
    "\n",
    "            # COMPUTE TRAINING METRICS\n",
    "            train_avg_loss = sum(train_epoch_loss)/len(train_epoch_loss)\n",
    "            mlflow.log_metric(\n",
    "                key=\"loss\",\n",
    "                value=train_avg_loss,\n",
    "                step=epoch\n",
    "            )"
   ]
  },
  {
   "cell_type": "code",
   "execution_count": null,
   "id": "26422be1",
   "metadata": {},
   "outputs": [],
   "source": [
    "from accelerate import notebook_launcher\n",
    "\n",
    "notebook_launcher(train, num_processes=1)"
   ]
  }
 ],
 "metadata": {
  "kernelspec": {
   "display_name": ".venv (3.12.3)",
   "language": "python",
   "name": "python3"
  },
  "language_info": {
   "codemirror_mode": {
    "name": "ipython",
    "version": 3
   },
   "file_extension": ".py",
   "mimetype": "text/x-python",
   "name": "python",
   "nbconvert_exporter": "python",
   "pygments_lexer": "ipython3",
   "version": "3.12.3"
  }
 },
 "nbformat": 4,
 "nbformat_minor": 5
}
