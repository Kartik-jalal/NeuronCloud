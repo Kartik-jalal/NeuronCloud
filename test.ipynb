{
 "cells": [
  {
   "cell_type": "markdown",
   "id": "5e2bc9e1",
   "metadata": {},
   "source": [
    "# Libraries"
   ]
  },
  {
   "cell_type": "code",
   "execution_count": null,
   "id": "45cf217a",
   "metadata": {},
   "outputs": [],
   "source": [
    "import yaml\n",
    "from pathlib import Path\n",
    "\n",
    "from src.utils import  get_data_info, train_val_test_split\n",
    "from src.classes import NeuronPatchDataset\n",
    "\n",
    "import tifffile\n",
    "import os"
   ]
  },
  {
   "cell_type": "markdown",
   "id": "73eb38c9",
   "metadata": {},
   "source": [
    "# Helper Functions"
   ]
  },
  {
   "cell_type": "markdown",
   "id": "adcdd44f",
   "metadata": {},
   "source": [
    "# Main\n",
    "\n",
    "### read config"
   ]
  },
  {
   "cell_type": "code",
   "execution_count": null,
   "id": "150bad0c",
   "metadata": {},
   "outputs": [],
   "source": [
    "config_yaml_path = \"config.yaml\"\n",
    "\n",
    "config_path = Path(config_yaml_path)\n",
    "\n",
    "with config_path.open(\"r\", encoding=\"utf-8\") as f:\n",
    "    cfg = yaml.safe_load(f) \n",
    "\n",
    "data_path = cfg[\"dir\"][\"input\"]\n",
    "output_dir = cfg[\"dir\"][\"output\"]\n",
    "\n",
    "tiff_suffixes = cfg[\"input_data\"][\"tiff_suffixes\"]\n",
    "marker_suffix = cfg[\"input_data\"][\"marker_suffix\"]\n",
    "\n",
    "ground_truth_config = cfg[\"ground_truth_config\"]\n",
    "\n",
    "pre_processing_config = cfg[\"pre_processing_config\"]\n",
    "\n",
    "print(data_path)\n",
    "print(output_dir)\n",
    "\n",
    "print(tiff_suffixes)\n",
    "print(marker_suffix)\n",
    "\n",
    "print(ground_truth_config)\n",
    "print(pre_processing_config)"
   ]
  },
  {
   "cell_type": "markdown",
   "id": "3635cc5e",
   "metadata": {},
   "source": [
    "### create dataframe with all the data info"
   ]
  },
  {
   "cell_type": "code",
   "execution_count": null,
   "id": "9c01f9dc",
   "metadata": {},
   "outputs": [],
   "source": [
    "df = get_data_info(\n",
    "    data_path=data_path,\n",
    "    tiff_suffixes=tiff_suffixes,\n",
    "    marker_suffix=marker_suffix\n",
    ")"
   ]
  },
  {
   "cell_type": "code",
   "execution_count": null,
   "id": "a14c6df4",
   "metadata": {},
   "outputs": [],
   "source": [
    "df"
   ]
  },
  {
   "cell_type": "code",
   "execution_count": null,
   "id": "038aaf8b",
   "metadata": {},
   "outputs": [],
   "source": [
    "from collections import Counter\n",
    "\n",
    "Counter(df[\"n_neurons\"])"
   ]
  },
  {
   "cell_type": "code",
   "execution_count": null,
   "id": "aa70a956",
   "metadata": {},
   "outputs": [],
   "source": [
    "df[df[\"n_neurons\"] == 748]"
   ]
  },
  {
   "cell_type": "markdown",
   "id": "d8aa0430",
   "metadata": {},
   "source": [
    "### split the data into train, val and test"
   ]
  },
  {
   "cell_type": "code",
   "execution_count": null,
   "id": "7cbc7cdb",
   "metadata": {},
   "outputs": [],
   "source": [
    "train, val, test = train_val_test_split(\n",
    "    df=df, \n",
    "    n_neurons_bins=5\n",
    ")\n",
    "\n",
    "print(train.shape, val.shape, test.shape)"
   ]
  },
  {
   "cell_type": "code",
   "execution_count": null,
   "id": "6f9be495",
   "metadata": {},
   "outputs": [],
   "source": [
    "train[train[\"tiff_img_name\"] == \"SST_11_20.tif\"]\n",
    "\n",
    "train.iloc[34]"
   ]
  },
  {
   "cell_type": "markdown",
   "id": "220a8103",
   "metadata": {},
   "source": [
    "# initialise the NeuronPatchDataset object"
   ]
  },
  {
   "cell_type": "code",
   "execution_count": null,
   "id": "84cc42cb",
   "metadata": {},
   "outputs": [],
   "source": [
    "train_ds = NeuronPatchDataset(\n",
    "    df=train,\n",
    "    ground_truth_config=ground_truth_config,\n",
    "    pre_processing_config=pre_processing_config,\n",
    ")"
   ]
  },
  {
   "cell_type": "code",
   "execution_count": null,
   "id": "10a9e3e7",
   "metadata": {},
   "outputs": [],
   "source": [
    "index = 34\n",
    "data = train_ds.__getitem__(index=index)"
   ]
  },
  {
   "cell_type": "code",
   "execution_count": null,
   "id": "61441a6a",
   "metadata": {},
   "outputs": [],
   "source": [
    "for key, gt in data.items():\n",
    "    tifffile.imwrite(\n",
    "        os.path.join(output_dir,key+f\"_{index}_.tiff\"),\n",
    "        data=gt.numpy()\n",
    "    )"
   ]
  },
  {
   "cell_type": "markdown",
   "id": "0db753e0",
   "metadata": {},
   "source": [
    "# intialise the dataloader object"
   ]
  },
  {
   "cell_type": "code",
   "execution_count": null,
   "id": "14adabb4",
   "metadata": {},
   "outputs": [],
   "source": [
    "from torch.utils.data import DataLoader\n",
    "\n",
    "train_dl = DataLoader(train_ds, batch_size=1, shuffle=True, num_workers=4, pin_memory=True)"
   ]
  }
 ],
 "metadata": {
  "kernelspec": {
   "display_name": "Python 3",
   "language": "python",
   "name": "python3"
  },
  "language_info": {
   "codemirror_mode": {
    "name": "ipython",
    "version": 3
   },
   "file_extension": ".py",
   "mimetype": "text/x-python",
   "name": "python",
   "nbconvert_exporter": "python",
   "pygments_lexer": "ipython3",
   "version": "3.12.3"
  }
 },
 "nbformat": 4,
 "nbformat_minor": 5
}
